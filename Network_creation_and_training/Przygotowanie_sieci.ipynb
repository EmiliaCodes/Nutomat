{
 "cells": [
  {
   "cell_type": "markdown",
   "metadata": {},
   "source": [
    "**Emilia Stefanowska, 2022**"
   ]
  },
  {
   "cell_type": "markdown",
   "metadata": {},
   "source": [
    "## Generowanie dyktand melodycznych - silnik aplikacji\n",
    "*Generating melodic dictations - application engine*"
   ]
  },
  {
   "cell_type": "code",
   "execution_count": 1,
   "metadata": {},
   "outputs": [
    {
     "name": "stderr",
     "output_type": "stream",
     "text": [
      "Using TensorFlow backend.\n"
     ]
    }
   ],
   "source": [
    "import os\n",
    "import pickle\n",
    "from music21 import converter, chord, note, key, interval, pitch, stream\n",
    "# import numpy as np\n",
    "from keras.utils import np_utils\n",
    "from keras.layers import LSTM, Input, Dropout, Reshape, Dense, Activation, RepeatVector, Embedding, Concatenate, Bidirectional, Lambda, Permute, Multiply, Flatten\n",
    "from keras.models import Model\n",
    "import keras.backend as K \n",
    "from keras.optimizers import RMSprop\n",
    "from keras.utils import plot_model\n",
    "from keras.callbacks import ModelCheckpoint, EarlyStopping\n",
    "from sklearn.model_selection import train_test_split\n",
    "import matplotlib.pyplot as plt\n",
    "from datetime import datetime\n",
    "import statistics\n",
    "import math"
   ]
  },
  {
   "cell_type": "markdown",
   "metadata": {},
   "source": [
    "**Ustawianie parametrów i folderu z zapisem danych** <br>\n",
    "*Setting the parameters and backup folders*"
   ]
  },
  {
   "cell_type": "code",
   "execution_count": 2,
   "metadata": {
    "pycharm": {
     "is_executing": true
    }
   },
   "outputs": [],
   "source": [
    "# Model parameters\n",
    "seq_len = 10\n",
    "embedding_size = 125\n",
    "rnn_units = 315"
   ]
  },
  {
   "cell_type": "code",
   "execution_count": 3,
   "metadata": {
    "pycharm": {
     "is_executing": true
    },
    "scrolled": true
   },
   "outputs": [
    {
     "name": "stdout",
     "output_type": "stream",
     "text": [
      "315 training set files in total\n"
     ]
    }
   ],
   "source": [
    "# Preparing backup folders\n",
    "date = str(datetime.now().strftime(\"%m-%d-%Y_%H-%M\"))\n",
    "name = \"seq-{}_emb-{}_rnn-{}\".format(seq_len, embedding_size, rnn_units)\n",
    "training_id = '3-4_with-attention_{date}-{name}'.format(date=date, name=name)\n",
    "\n",
    "attention = True\n",
    "\n",
    "source_folder = 'D:/Studia/Praca_inzynierska/Baza_dyktanda/Lasocki_solfez/4-4/MIDI/'\n",
    "# source_folder = 'D:/Studia/Praca_inzynierska/Baza_dyktanda/Lasocki_solfez/3-4/MIDI/'\n",
    "\n",
    "backup_folder = 'backup/{}/'.format(training_id)\n",
    "files = os.listdir(source_folder)\n",
    "\n",
    "# Creating backup folder if doesn't already exist\n",
    "if not os.path.exists('backup'):\n",
    "    os.mkdir('backup')\n",
    "\n",
    "# Creating backup folder for this specific training session\n",
    "if not os.path.exists(backup_folder):\n",
    "    os.mkdir(backup_folder)\n",
    "    os.mkdir(os.path.join(backup_folder, 'training_set_backup'))\n",
    "    os.mkdir(os.path.join(backup_folder, 'model'))\n",
    "    \n",
    "backup_training_set_folder = os.path.join(backup_folder, 'training_set_backup')\n",
    "model_folder = os.path.join(backup_folder, 'model')\n",
    "\n",
    "print('%s training set files in total' % len(files))"
   ]
  },
  {
   "cell_type": "markdown",
   "metadata": {},
   "source": [
    "**Przygotowanie zmiennych** <br>\n",
    "*Preparing variables*"
   ]
  },
  {
   "cell_type": "code",
   "execution_count": 4,
   "metadata": {},
   "outputs": [],
   "source": [
    "pitch_read = [] # training set pitch matrix - music21 names\n",
    "rhythm_read = [] # training set rhythm matrix - music21 names\n",
    "\n",
    "pitch_input = []\n",
    "pitch_output = []\n",
    "rhythm_input = []\n",
    "rhythm_output = []\n",
    "\n",
    "pitch_input_encoded = []\n",
    "pitch_output_encoded = []\n",
    "rhythm_input_encoded = []\n",
    "rhythm_output_encoded = []\n",
    "\n",
    "all_lengths = []\n",
    "all_rhythms = []"
   ]
  },
  {
   "cell_type": "markdown",
   "metadata": {},
   "source": [
    "**Odczytywanie i zapisywanie informacji ze zbioru treningowego** <br>\n",
    "*Reading and saving data from the training set*"
   ]
  },
  {
   "cell_type": "code",
   "execution_count": 5,
   "metadata": {},
   "outputs": [],
   "source": [
    "for file in files:\n",
    "    pitch_this_file = []\n",
    "    rhythm_this_file = []\n",
    "\n",
    "    dictation = converter.parse(source_folder + file)\n",
    "        \n",
    "    # Transpose to C-major\n",
    "    dictation_key_signature = dictation.analyze('key')\n",
    "    \n",
    "    if dictation_key_signature != key.Key('C'):\n",
    "        i = interval.Interval(dictation_key_signature.tonic, pitch.Pitch('C'))\n",
    "        dictation = dictation.transpose(i)\n",
    "            \n",
    "    # Adding start symbols to mark beginning of the piece\n",
    "    pitch_this_file.extend(['S'] * seq_len)\n",
    "    rhythm_this_file.extend([0.0] * seq_len)\n",
    "        \n",
    "    part_stream = dictation.parts.stream()\n",
    "    my_part = part_stream[0] # ensuring we will use only the top melody IF we had multi-melody training set pieces\n",
    "        \n",
    "    for element in my_part.flat.notesAndRests:\n",
    "        if element.isNote:\n",
    "            pitch_this_file.append(str(element.nameWithOctave))\n",
    "            rhythm_this_file.append(element.duration.quarterLength)\n",
    "\n",
    "        if element.isRest:\n",
    "            pitch_this_file.append(str(element.name))  # 'rest'\n",
    "            rhythm_this_file.append(element.duration.quarterLength)\n",
    "                \n",
    "        if isinstance(element, chord.Chord): # if chord insert only the highest note\n",
    "            pitch_this_file.append(element.pitches[-1].nameWithOctave)\n",
    "            rhythm_this_file.append(element.duration.quarterLength)\n",
    "\n",
    "        # Adding notes to an array of all the notes\n",
    "        pitch_read.extend(pitch_this_file)     \n",
    "        rhythm_read.extend(rhythm_this_file)\n",
    "            \n",
    "        \n",
    "    file_length_in_notes = len(my_part.flat.notesAndRests)\n",
    "    all_lengths.append(file_length_in_notes)\n",
    "    length_in_bars = math.ceil((0.25 *round (sum(rhythm_this_file) /0.25))/3.0)\n",
    "    all_rhythms.append(length_in_bars)\n",
    "        \n",
    "    # Creating sequences\n",
    "    for i in range(file_length_in_notes):\n",
    "        pitch_input.append(pitch_this_file[i : i + seq_len])\n",
    "        pitch_output.append(pitch_this_file[i + seq_len])\n",
    "        rhythm_input.append(rhythm_this_file[i : i + seq_len])\n",
    "        rhythm_output.append(rhythm_this_file[i + seq_len])\n",
    "\n",
    "# Create dictionaries with unique pitch and rhythm values\n",
    "pitch_sorted = sorted(set(pitch_read))\n",
    "pitch_dict = dict((number, pitch) for pitch, number in enumerate(pitch_sorted))\n",
    "pitch_dict_reversed = dict((pitch, number) for pitch, number in enumerate(pitch_sorted))\n",
    "    \n",
    "rhythm_sorted = sorted(set(rhythm_read))\n",
    "rhythm_dict = dict((number, rhythm) for rhythm, number in enumerate(rhythm_sorted))\n",
    "rhythm_dict_reversed = dict((rhythm, number) for rhythm, number in enumerate(rhythm_sorted))\n",
    "\n",
    "dict_tables = [pitch_sorted, pitch_dict, rhythm_sorted, rhythm_dict, pitch_dict_reversed, rhythm_dict_reversed]\n",
    "\n",
    "# Saving training set pitch and rhythm matrices into binary files\n",
    "with open(os.path.join(backup_training_set_folder, 'pitch'), 'wb') as file:\n",
    "    pickle.dump(pitch_input, file)\n",
    "with open(os.path.join(backup_training_set_folder, 'rhythm'), 'wb') as file:\n",
    "    pickle.dump(rhythm_input, file)\n",
    "with open(os.path.join(backup_training_set_folder, 'dictionaries'), 'wb') as file:\n",
    "    pickle.dump(dict_tables, file)"
   ]
  },
  {
   "cell_type": "markdown",
   "metadata": {},
   "source": [
    "**Statystyki dotyczące ilości nut i taktów w dyktandach treningowych** <br>\n",
    "*Stats about number of notes and bars in training dictations*"
   ]
  },
  {
   "cell_type": "code",
   "execution_count": 6,
   "metadata": {},
   "outputs": [
    {
     "name": "stdout",
     "output_type": "stream",
     "text": [
      "Statystyki odnośnie ilości taktów\n",
      "Średnia: \t12.2984126984127\n",
      "Dominanta: \t11\n",
      "Mediana: \t11\n",
      "Minimum: \t4\n",
      "Maksimum: \t48\n",
      "\n",
      "Statystyki odnośnie ilości nut\n",
      "Średnia: \t45.66984126984127\n",
      "Dominanta: \t31\n",
      "Mediana: \t39\n",
      "Minimum: \t14\n",
      "Maksimum: \t143\n"
     ]
    }
   ],
   "source": [
    "print(\"Statystyki odnośnie ilości taktów\")\n",
    "print(\"Średnia: \\t{}\".format(statistics.mean(all_rhythms)))\n",
    "print(\"Dominanta: \\t{}\".format(statistics.mode(all_rhythms)))\n",
    "print(\"Mediana: \\t{}\".format(statistics.median(all_rhythms)))\n",
    "print(\"Minimum: \\t{}\".format(min(all_rhythms)))\n",
    "print(\"Maksimum: \\t{}\".format(max(all_rhythms)))\n",
    "\n",
    "print(\"\\nStatystyki odnośnie ilości nut\")\n",
    "print(\"Średnia: \\t{}\".format(statistics.mean(all_lengths)))\n",
    "print(\"Dominanta: \\t{}\".format(statistics.mode(all_lengths)))\n",
    "print(\"Mediana: \\t{}\".format(statistics.median(all_lengths)))\n",
    "print(\"Minimum: \\t{}\".format(min(all_lengths)))\n",
    "print(\"Maksimum: \\t{}\".format(max(all_lengths)))"
   ]
  },
  {
   "cell_type": "markdown",
   "metadata": {},
   "source": [
    "**Przygotowywanie danych do sieci neuronowej** <br>\n",
    "*Preparing data for neural network*"
   ]
  },
  {
   "cell_type": "code",
   "execution_count": 7,
   "metadata": {},
   "outputs": [],
   "source": [
    "for i in range(len(pitch_input)):\n",
    "    pitch_input_encoded.append([pitch_dict[pitch_name] for pitch_name in pitch_input[i]])\n",
    "    pitch_output_encoded.append(pitch_dict[pitch_output[i]])\n",
    "    rhythm_input_encoded.append([rhythm_dict[rhythm_name] for rhythm_name in rhythm_input[i]])\n",
    "    rhythm_output_encoded.append(rhythm_dict[rhythm_output[i]])\n",
    "    \n",
    "# output of the network - one-hot encoding *kodowanie 1 z n*\n",
    "pitch_output_encoded = np_utils.to_categorical(pitch_output_encoded, num_classes=len(pitch_dict)) \n",
    "rhythm_output_encoded = np_utils.to_categorical(rhythm_output_encoded, num_classes=len(rhythm_dict))\n",
    "\n",
    "# Split the data\n",
    "pitch_in_train, pitch_in_valid, pitch_out_train, pitch_out_valid = train_test_split(pitch_input_encoded, pitch_output_encoded, test_size=0.1, shuffle= True)\n",
    "rhythm_in_train, rhythm_in_valid, rhythm_out_train, rhythm_out_valid = train_test_split(rhythm_input_encoded, rhythm_output_encoded, test_size=0.1, shuffle= True)\n",
    "\n",
    "network_in = [pitch_in_train, rhythm_in_train]\n",
    "network_out = [pitch_out_train, rhythm_out_train]\n",
    "\n",
    "network_in_valid = [pitch_in_valid, rhythm_in_valid]\n",
    "network_out_valid = [pitch_out_valid, rhythm_out_valid]"
   ]
  },
  {
   "cell_type": "markdown",
   "metadata": {},
   "source": [
    "**Budowanie modelu sieci neuronowej** <br>\n",
    "*Building the neural network*"
   ]
  },
  {
   "cell_type": "code",
   "execution_count": 8,
   "metadata": {},
   "outputs": [],
   "source": [
    "def create_model(embedding_size, rnn_units, rhythm_dict=rhythm_dict, pitch_dict=pitch_dict):\n",
    "    # Useful training set variables\n",
    "    rhythm_size = len(rhythm_dict)\n",
    "    pitch_size = len(pitch_dict)\n",
    "\n",
    "    # Building the architecture\n",
    "    pitch_in = Input(shape = (None,), name='pitch_input')\n",
    "    rhythm_in = Input(shape = (None,), name='rhythm_input')\n",
    "\n",
    "    pitch_embed = Embedding(pitch_size, embedding_size, name='pitch_embedded')(pitch_in)\n",
    "    rhythm_embed = Embedding(rhythm_size, embedding_size, name='rhythm_embedded')(rhythm_in) \n",
    "\n",
    "    x = Concatenate()([pitch_embed, rhythm_embed])\n",
    "\n",
    "    x = Bidirectional(LSTM(rnn_units, return_sequences=True), name='bidirectional_lstm')(x) #  Second layer - BiLSTM\n",
    "#     x = Dropout(0.20)(x)\n",
    "    x = LSTM(rnn_units, return_sequences=True, name='lstm_forward')(x) # Second LSTM layer\n",
    "#     x = Dropout(0.20)(x)\n",
    "\n",
    "    # attention\n",
    "    e = Dense(1, activation='tanh')(x)   \n",
    "    e = Reshape([-1])(e)\n",
    "\n",
    "    weights = Activation('softmax')(e)\n",
    "    weights_repeat = Permute([2, 1])(RepeatVector(rnn_units)(weights))\n",
    "\n",
    "    c = Multiply()([x, weights_repeat])\n",
    "    c = Lambda(lambda xin:K.sum(xin, axis=1), output_shape=(rnn_units,))(c)\n",
    "\n",
    "    pitch_out = Dense(pitch_size, activation = 'softmax', name = 'pitch_output')(c)\n",
    "    rhythm_out = Dense(rhythm_size, activation = 'softmax', name = 'rhythm_output')(c)\n",
    "\n",
    "    model = Model([pitch_in, rhythm_in], [pitch_out, rhythm_out])\n",
    "\n",
    "    opti = RMSprop(lr = 0.001)\n",
    "    model.compile(loss=['categorical_crossentropy', 'categorical_crossentropy'], optimizer=opti)\n",
    "    return model"
   ]
  },
  {
   "cell_type": "code",
   "execution_count": 9,
   "metadata": {},
   "outputs": [
    {
     "name": "stderr",
     "output_type": "stream",
     "text": [
      "WARNING: Logging before flag parsing goes to stderr.\n",
      "W1230 13:14:51.750921 16324 deprecation_wrapper.py:119] From C:\\Users\\stefa\\.conda\\envs\\reilly\\lib\\site-packages\\keras\\backend\\tensorflow_backend.py:517: The name tf.placeholder is deprecated. Please use tf.compat.v1.placeholder instead.\n",
      "\n",
      "W1230 13:14:51.789426 16324 deprecation_wrapper.py:119] From C:\\Users\\stefa\\.conda\\envs\\reilly\\lib\\site-packages\\keras\\backend\\tensorflow_backend.py:4138: The name tf.random_uniform is deprecated. Please use tf.random.uniform instead.\n",
      "\n",
      "W1230 13:14:51.805677 16324 deprecation_wrapper.py:119] From C:\\Users\\stefa\\.conda\\envs\\reilly\\lib\\site-packages\\keras\\backend\\tensorflow_backend.py:74: The name tf.get_default_graph is deprecated. Please use tf.compat.v1.get_default_graph instead.\n",
      "\n",
      "W1230 13:14:52.606991 16324 deprecation_wrapper.py:119] From C:\\Users\\stefa\\.conda\\envs\\reilly\\lib\\site-packages\\keras\\optimizers.py:790: The name tf.train.Optimizer is deprecated. Please use tf.compat.v1.train.Optimizer instead.\n",
      "\n",
      "W1230 13:14:52.613905 16324 deprecation_wrapper.py:119] From C:\\Users\\stefa\\.conda\\envs\\reilly\\lib\\site-packages\\keras\\backend\\tensorflow_backend.py:3295: The name tf.log is deprecated. Please use tf.math.log instead.\n",
      "\n"
     ]
    }
   ],
   "source": [
    "if attention:\n",
    "    model = create_model(embedding_size, rnn_units, rhythm_dict, pitch_dict)"
   ]
  },
  {
   "cell_type": "markdown",
   "metadata": {},
   "source": [
    "**Zapisywanie schematu modelu i pokazanie podsumowania** <br>\n",
    "*Save the plotted model and show summary*"
   ]
  },
  {
   "cell_type": "code",
   "execution_count": 10,
   "metadata": {},
   "outputs": [
    {
     "name": "stdout",
     "output_type": "stream",
     "text": [
      "__________________________________________________________________________________________________\n",
      "Layer (type)                    Output Shape         Param #     Connected to                     \n",
      "==================================================================================================\n",
      "pitch_input (InputLayer)        (None, None)         0                                            \n",
      "__________________________________________________________________________________________________\n",
      "rhythm_input (InputLayer)       (None, None)         0                                            \n",
      "__________________________________________________________________________________________________\n",
      "pitch_embedded (Embedding)      (None, None, 125)    4500        pitch_input[0][0]                \n",
      "__________________________________________________________________________________________________\n",
      "rhythm_embedded (Embedding)     (None, None, 125)    2125        rhythm_input[0][0]               \n",
      "__________________________________________________________________________________________________\n",
      "concatenate_1 (Concatenate)     (None, None, 250)    0           pitch_embedded[0][0]             \n",
      "                                                                 rhythm_embedded[0][0]            \n",
      "__________________________________________________________________________________________________\n",
      "bidirectional_lstm (Bidirection (None, None, 630)    1426320     concatenate_1[0][0]              \n",
      "__________________________________________________________________________________________________\n",
      "lstm_forward (LSTM)             (None, None, 315)    1191960     bidirectional_lstm[0][0]         \n",
      "__________________________________________________________________________________________________\n",
      "dense_1 (Dense)                 (None, None, 1)      316         lstm_forward[0][0]               \n",
      "__________________________________________________________________________________________________\n",
      "reshape_1 (Reshape)             (None, None)         0           dense_1[0][0]                    \n",
      "__________________________________________________________________________________________________\n",
      "activation_1 (Activation)       (None, None)         0           reshape_1[0][0]                  \n",
      "__________________________________________________________________________________________________\n",
      "repeat_vector_1 (RepeatVector)  (None, 315, None)    0           activation_1[0][0]               \n",
      "__________________________________________________________________________________________________\n",
      "permute_1 (Permute)             (None, None, 315)    0           repeat_vector_1[0][0]            \n",
      "__________________________________________________________________________________________________\n",
      "multiply_1 (Multiply)           (None, None, 315)    0           lstm_forward[0][0]               \n",
      "                                                                 permute_1[0][0]                  \n",
      "__________________________________________________________________________________________________\n",
      "lambda_1 (Lambda)               (None, 315)          0           multiply_1[0][0]                 \n",
      "__________________________________________________________________________________________________\n",
      "pitch_output (Dense)            (None, 36)           11376       lambda_1[0][0]                   \n",
      "__________________________________________________________________________________________________\n",
      "rhythm_output (Dense)           (None, 17)           5372        lambda_1[0][0]                   \n",
      "==================================================================================================\n",
      "Total params: 2,641,969\n",
      "Trainable params: 2,641,969\n",
      "Non-trainable params: 0\n",
      "__________________________________________________________________________________________________\n"
     ]
    }
   ],
   "source": [
    "plot_model(model, to_file=os.path.join(\"D:/Studia/\", 'model.png'), show_shapes = True, show_layer_names = True)\n",
    "model.summary()"
   ]
  },
  {
   "cell_type": "markdown",
   "metadata": {},
   "source": [
    "**Stworzenie mechanizmu zapisywania poprawienia wag i trenowanie modelu** <br>\n",
    "*Create weights saving mechanism and train the model*"
   ]
  },
  {
   "cell_type": "code",
   "execution_count": 11,
   "metadata": {
    "scrolled": false
   },
   "outputs": [
    {
     "name": "stderr",
     "output_type": "stream",
     "text": [
      "W1230 13:14:52.892950 16324 deprecation_wrapper.py:119] From C:\\Users\\stefa\\.conda\\envs\\reilly\\lib\\site-packages\\keras\\backend\\tensorflow_backend.py:174: The name tf.get_default_session is deprecated. Please use tf.compat.v1.get_default_session instead.\n",
      "\n",
      "W1230 13:14:53.445203 16324 deprecation.py:323] From C:\\Users\\stefa\\.conda\\envs\\reilly\\lib\\site-packages\\tensorflow\\python\\ops\\math_grad.py:1250: add_dispatch_support.<locals>.wrapper (from tensorflow.python.ops.array_ops) is deprecated and will be removed in a future version.\n",
      "Instructions for updating:\n",
      "Use tf.where in 2.0, which has the same broadcast rule as np.where\n"
     ]
    },
    {
     "name": "stdout",
     "output_type": "stream",
     "text": [
      "Train on 12947 samples, validate on 1439 samples\n",
      "Epoch 1/20\n",
      "12947/12947 [==============================] - 60s 5ms/step - loss: 3.5252 - pitch_output_loss: 2.4209 - rhythm_output_loss: 1.1043 - val_loss: 3.3428 - val_pitch_output_loss: 2.3061 - val_rhythm_output_loss: 1.0367\n",
      "Epoch 2/20\n",
      "12947/12947 [==============================] - 61s 5ms/step - loss: 3.2253 - pitch_output_loss: 2.2318 - rhythm_output_loss: 0.9935 - val_loss: 3.1535 - val_pitch_output_loss: 2.2173 - val_rhythm_output_loss: 0.9361\n",
      "Epoch 3/20\n",
      "12947/12947 [==============================] - 63s 5ms/step - loss: 3.1140 - pitch_output_loss: 2.1669 - rhythm_output_loss: 0.9471 - val_loss: 3.1085 - val_pitch_output_loss: 2.2063 - val_rhythm_output_loss: 0.9022\n",
      "Epoch 4/20\n",
      "12947/12947 [==============================] - 63s 5ms/step - loss: 3.0243 - pitch_output_loss: 2.1123 - rhythm_output_loss: 0.9119 - val_loss: 3.0407 - val_pitch_output_loss: 2.1590 - val_rhythm_output_loss: 0.8816\n",
      "Epoch 5/20\n",
      "12947/12947 [==============================] - 60s 5ms/step - loss: 2.9269 - pitch_output_loss: 2.0516 - rhythm_output_loss: 0.8753 - val_loss: 2.9617 - val_pitch_output_loss: 2.1192 - val_rhythm_output_loss: 0.8425\n",
      "Epoch 6/20\n",
      "12947/12947 [==============================] - 60s 5ms/step - loss: 2.8435 - pitch_output_loss: 1.9987 - rhythm_output_loss: 0.8448 - val_loss: 2.9476 - val_pitch_output_loss: 2.1001 - val_rhythm_output_loss: 0.8475\n",
      "Epoch 7/20\n",
      "12947/12947 [==============================] - 59s 5ms/step - loss: 2.7627 - pitch_output_loss: 1.9474 - rhythm_output_loss: 0.8153 - val_loss: 2.9503 - val_pitch_output_loss: 2.0903 - val_rhythm_output_loss: 0.8600\n",
      "Epoch 8/20\n",
      "12947/12947 [==============================] - 60s 5ms/step - loss: 2.6686 - pitch_output_loss: 1.8828 - rhythm_output_loss: 0.7859 - val_loss: 2.9478 - val_pitch_output_loss: 2.0906 - val_rhythm_output_loss: 0.8572\n",
      "Epoch 9/20\n",
      "12947/12947 [==============================] - 60s 5ms/step - loss: 2.5477 - pitch_output_loss: 1.8035 - rhythm_output_loss: 0.7442 - val_loss: 2.9872 - val_pitch_output_loss: 2.1282 - val_rhythm_output_loss: 0.8590\n",
      "Epoch 10/20\n",
      "12947/12947 [==============================] - 60s 5ms/step - loss: 2.3940 - pitch_output_loss: 1.7001 - rhythm_output_loss: 0.6939 - val_loss: 3.0579 - val_pitch_output_loss: 2.1761 - val_rhythm_output_loss: 0.8819\n",
      "Epoch 11/20\n",
      "12947/12947 [==============================] - 60s 5ms/step - loss: 2.1898 - pitch_output_loss: 1.5595 - rhythm_output_loss: 0.6303 - val_loss: 3.1760 - val_pitch_output_loss: 2.2475 - val_rhythm_output_loss: 0.9285\n",
      "Epoch 12/20\n",
      "12947/12947 [==============================] - 60s 5ms/step - loss: 1.9468 - pitch_output_loss: 1.3888 - rhythm_output_loss: 0.5580 - val_loss: 3.2769 - val_pitch_output_loss: 2.3235 - val_rhythm_output_loss: 0.9535\n",
      "Epoch 13/20\n",
      "12947/12947 [==============================] - 59s 5ms/step - loss: 1.6731 - pitch_output_loss: 1.1970 - rhythm_output_loss: 0.4761 - val_loss: 3.3790 - val_pitch_output_loss: 2.3981 - val_rhythm_output_loss: 0.9808\n",
      "Epoch 14/20\n",
      "12947/12947 [==============================] - 59s 5ms/step - loss: 1.3743 - pitch_output_loss: 0.9856 - rhythm_output_loss: 0.3887 - val_loss: 3.6238 - val_pitch_output_loss: 2.5446 - val_rhythm_output_loss: 1.0793\n",
      "Epoch 15/20\n",
      "12947/12947 [==============================] - 59s 5ms/step - loss: 1.0864 - pitch_output_loss: 0.7794 - rhythm_output_loss: 0.3070 - val_loss: 3.8531 - val_pitch_output_loss: 2.7087 - val_rhythm_output_loss: 1.1445\n",
      "Epoch 16/20\n",
      "12947/12947 [==============================] - 59s 5ms/step - loss: 0.8150 - pitch_output_loss: 0.5823 - rhythm_output_loss: 0.2328 - val_loss: 4.1406 - val_pitch_output_loss: 2.8982 - val_rhythm_output_loss: 1.2424\n",
      "Epoch 17/20\n",
      "12947/12947 [==============================] - 59s 5ms/step - loss: 0.5995 - pitch_output_loss: 0.4236 - rhythm_output_loss: 0.1759 - val_loss: 4.5751 - val_pitch_output_loss: 3.1614 - val_rhythm_output_loss: 1.4137\n",
      "Epoch 18/20\n",
      "12947/12947 [==============================] - 60s 5ms/step - loss: 0.4349 - pitch_output_loss: 0.3006 - rhythm_output_loss: 0.1343 - val_loss: 4.9348 - val_pitch_output_loss: 3.3832 - val_rhythm_output_loss: 1.5516\n",
      "Epoch 19/20\n",
      "12947/12947 [==============================] - 59s 5ms/step - loss: 0.3194 - pitch_output_loss: 0.2232 - rhythm_output_loss: 0.0963 - val_loss: 5.2477 - val_pitch_output_loss: 3.5771 - val_rhythm_output_loss: 1.6707\n",
      "Epoch 20/20\n",
      "12947/12947 [==============================] - 60s 5ms/step - loss: 0.2502 - pitch_output_loss: 0.1712 - rhythm_output_loss: 0.0790 - val_loss: 5.6861 - val_pitch_output_loss: 3.8744 - val_rhythm_output_loss: 1.8117\n"
     ]
    }
   ],
   "source": [
    "number_of_epochs = 20  # 500\n",
    "size_of_batch = 20\n",
    "\n",
    "model_checkpoint = ModelCheckpoint(\n",
    "    os.path.join(model_folder, \"weights.h5\"),\n",
    "    monitor='loss',\n",
    "    verbose=0,\n",
    "    save_best_only=True,\n",
    "    mode='min'\n",
    ")\n",
    "\n",
    "early_stopping = EarlyStopping(\n",
    "    monitor='loss'\n",
    "    , restore_best_weights=True\n",
    "    , patience = 25\n",
    ")\n",
    "\n",
    "\n",
    "callbacks_list = [model_checkpoint, early_stopping]\n",
    "\n",
    "model.save_weights(os.path.join(model_folder, \"weights.h5\"))\n",
    "\n",
    "# Train the model\n",
    "history = model.fit(network_in, network_out\n",
    "          , epochs=number_of_epochs\n",
    "          , batch_size=size_of_batch\n",
    "          , validation_split=0.0\n",
    "          , validation_data=(network_in_valid, network_out_valid)\n",
    "          , callbacks=callbacks_list\n",
    "          , shuffle=True\n",
    "         )"
   ]
  },
  {
   "cell_type": "markdown",
   "metadata": {},
   "source": [
    "**Zapisywanie wag** <br>\n",
    "*Saving weights*"
   ]
  },
  {
   "cell_type": "code",
   "execution_count": 12,
   "metadata": {},
   "outputs": [],
   "source": [
    "model.save(os.path.join(model_folder, \"my_model\"))\n",
    "model.save_weights(os.path.join(model_folder, \"weightsfinal.h5\"))"
   ]
  },
  {
   "cell_type": "markdown",
   "metadata": {},
   "source": [
    "**Przedstawienie historii treningu na wykresie** <br>\n",
    "*Showing training history on a plot*"
   ]
  },
  {
   "cell_type": "code",
   "execution_count": 14,
   "metadata": {},
   "outputs": [
    {
     "data": {
      "text/plain": [
       "<matplotlib.legend.Legend at 0x21a6d8adba8>"
      ]
     },
     "execution_count": 14,
     "metadata": {},
     "output_type": "execute_result"
    },
    {
     "data": {
      "image/png": "[encoded data removed]",
      "text/plain": [
       "<Figure size 432x288 with 1 Axes>"
      ]
     },
     "metadata": {
      "image/png": {
       "height": 250,
       "width": 373
      },
      "needs_background": "light"
     },
     "output_type": "display_data"
    }
   ],
   "source": [
    "plt.plot(history.history['loss'])\n",
    "plt.legend(['training loss'], loc='upper right')"
   ]
  }
 ],
 "metadata": {
  "kernelspec": {
   "display_name": "Python 3",
   "language": "python",
   "name": "python3"
  },
  "language_info": {
   "codemirror_mode": {
    "name": "ipython",
    "version": 3
   },
   "file_extension": ".py",
   "mimetype": "text/x-python",
   "name": "python",
   "nbconvert_exporter": "python",
   "pygments_lexer": "ipython3",
   "version": "3.6.13"
  }
 },
 "nbformat": 4,
 "nbformat_minor": 2
}
